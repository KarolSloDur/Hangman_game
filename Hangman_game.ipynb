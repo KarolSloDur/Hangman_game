{
  "nbformat": 4,
  "nbformat_minor": 0,
  "metadata": {
    "colab": {
      "provenance": [],
      "authorship_tag": "ABX9TyOcxGcP/T8uFIv524T2rgae",
      "include_colab_link": true
    },
    "kernelspec": {
      "name": "python3",
      "display_name": "Python 3"
    },
    "language_info": {
      "name": "python"
    }
  },
  "cells": [
    {
      "cell_type": "markdown",
      "metadata": {
        "id": "view-in-github",
        "colab_type": "text"
      },
      "source": [
        "<a href=\"https://colab.research.google.com/github/KarolSloDur/Hangman_game/blob/main/Hangman_game.ipynb\" target=\"_parent\"><img src=\"https://colab.research.google.com/assets/colab-badge.svg\" alt=\"Open In Colab\"/></a>"
      ]
    },
    {
      "cell_type": "code",
      "execution_count": null,
      "metadata": {
        "id": "OIRIxavQCTN3"
      },
      "outputs": [],
      "source": [
        "import random\n",
        "list_of_words= ['YESTERDAY', 'PLAYMATE', 'NEIGHBOR\", \"INTERMEDIATE', 'HORKRUX']\n",
        "\n",
        "word =random.choice(list_of_words)\n",
        "hidden_word=len(word)*'-'\n",
        "num=6\n",
        "\n",
        "alphabet=str.upper('abcdefghijklmnopqrstuvwxyz')\n",
        "print('Hidden word is: '+ len(word)*'_ ')\n",
        "\n",
        "\n",
        "wyraz=''\n",
        "\n",
        "while num>0 and '-' in hidden_word:\n",
        "    print('..................................................')\n",
        "    print('Pick a letter: ')\n",
        "    letter1 = input()\n",
        "    letter=str.upper(letter1)\n",
        "    #if letter in alphabet:\n",
        "       # break\n",
        "    index_count = 0\n",
        "    \n",
        "    wyraz=wyraz+letter+','\n",
        "    print(f'Used letters: {wyraz} ')\n",
        "\n",
        " \n",
        "    for sign in word: \n",
        "      \n",
        "      if sign == letter:\n",
        "        hidden_word = hidden_word[:index_count]+letter+hidden_word[index_count+1:]\n",
        "      index_count=index_count+1\n",
        "    if letter in word:\n",
        "      \n",
        "      print('The letter is correct!')\n",
        "      print(f'The hidden word: {hidden_word}')\n",
        "    if letter not in word:\n",
        "      \n",
        "      num=num-1\n",
        "      print(f'WRONG! Number of mistakes left: {num} ')\n",
        "      print(f'Hidden word: {hidden_word}')\n",
        "      hangman={0:'''\n",
        "            ____________\n",
        "         |''',\n",
        "        1:'''\n",
        "        ____________\n",
        "         |\n",
        "         O''',\n",
        "        2:'''\n",
        "        ____________\n",
        "         |\n",
        "         O\n",
        "        /''',\n",
        "        3:'''\n",
        "        ____________\n",
        "         |\n",
        "         O\n",
        "        / \\\\''',\n",
        "        4:'''\n",
        "        ____________\n",
        "         |\n",
        "         O\n",
        "        / \\\\\n",
        "         |''',\n",
        "        5:'''\n",
        "        ____________\n",
        "         |\n",
        "         O\n",
        "        / \\\\\n",
        "         |\n",
        "        /''',\n",
        "        6:'''\n",
        "        ____________\n",
        "         |\n",
        "         O\n",
        "        / \\\\\n",
        "         |\n",
        "        / \\\\ '''}\n",
        "      print(hangman[6 - num])\n",
        "\n",
        "if num==0:\n",
        "  print('GAME OVER!!!')\n",
        "if '-' not in hidden_word:\n",
        "  print('CONGRATS! You have won!')\n",
        "  print(hidden_word)\n",
        "\n"
      ]
    }
  ]
}